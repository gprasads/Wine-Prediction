{
  "nbformat": 4,
  "nbformat_minor": 0,
  "metadata": {
    "colab": {
      "name": "MLhw2.ipynb",
      "provenance": [],
      "collapsed_sections": [],
      "include_colab_link": true
    },
    "kernelspec": {
      "name": "python3",
      "display_name": "Python 3"
    }
  },
  "cells": [
    {
      "cell_type": "markdown",
      "metadata": {
        "id": "view-in-github",
        "colab_type": "text"
      },
      "source": [
        "<a href=\"https://colab.research.google.com/github/gprasads/Wine-Prediction/blob/master/MLhw2.ipynb\" target=\"_parent\"><img src=\"https://colab.research.google.com/assets/colab-badge.svg\" alt=\"Open In Colab\"/></a>"
      ]
    },
    {
      "cell_type": "code",
      "metadata": {
        "id": "hMce2vdrr86Z",
        "colab_type": "code",
        "colab": {}
      },
      "source": [
        ""
      ],
      "execution_count": 0,
      "outputs": []
    },
    {
      "cell_type": "code",
      "metadata": {
        "id": "QZw8Ie2zt1kr",
        "colab_type": "code",
        "outputId": "2ea0dc53-fb41-44e6-b333-e20168484c96",
        "colab": {
          "base_uri": "https://localhost:8080/",
          "height": 128
        }
      },
      "source": [
        "from google.colab import drive\n",
        "drive.mount('/content/drive')"
      ],
      "execution_count": 0,
      "outputs": [
        {
          "output_type": "stream",
          "text": [
            "Go to this URL in a browser: https://accounts.google.com/o/oauth2/auth?client_id=947318989803-6bn6qk8qdgf4n4g3pfee6491hc0brc4i.apps.googleusercontent.com&redirect_uri=urn%3Aietf%3Awg%3Aoauth%3A2.0%3Aoob&scope=email%20https%3A%2F%2Fwww.googleapis.com%2Fauth%2Fdocs.test%20https%3A%2F%2Fwww.googleapis.com%2Fauth%2Fdrive%20https%3A%2F%2Fwww.googleapis.com%2Fauth%2Fdrive.photos.readonly%20https%3A%2F%2Fwww.googleapis.com%2Fauth%2Fpeopleapi.readonly&response_type=code\n",
            "\n",
            "Enter your authorization code:\n",
            "··········\n",
            "Mounted at /content/drive\n"
          ],
          "name": "stdout"
        }
      ]
    },
    {
      "cell_type": "code",
      "metadata": {
        "id": "TZwAy1QEuYD-",
        "colab_type": "code",
        "colab": {}
      },
      "source": [
        "#importing libraries\n",
        "import numpy as np\n",
        "import matplotlib.pyplot as mpl\n",
        "import pandas as pd\n",
        "\n",
        "train_data = pd.read_csv('/content/drive/My Drive/ml_hw2/trainData.csv')\n",
        "train_labels = pd.read_csv('/content/drive/My Drive/ml_hw2/trainLabels.csv')\n",
        "test_data = pd.read_csv('/content/drive/My Drive/ml_hw2/valData.csv')\n",
        "test_labels= pd.read_csv('/content/drive/My Drive/ml_hw2/valLabels.csv')\n",
        "submission_input=pd.read_csv('/content/drive/My Drive/ml_hw2/testData_new.csv')\n",
        "\n",
        "train_data = train_data.iloc[:,1:]\n",
        "train_labels = train_labels.iloc[:,1:]\n",
        "test_data = test_data.iloc[:,1:]\n",
        "test_labels = test_labels.iloc[:,1:]\n",
        "submission_data = submission_input.iloc[:,1:]\n"
      ],
      "execution_count": 0,
      "outputs": []
    },
    {
      "cell_type": "code",
      "metadata": {
        "id": "MdHa06F5ZO62",
        "colab_type": "code",
        "outputId": "c5b790f1-b8d9-46ef-fa7d-2a953c288c27",
        "colab": {
          "base_uri": "https://localhost:8080/",
          "height": 1000
        }
      },
      "source": [
        "train_labels"
      ],
      "execution_count": 0,
      "outputs": [
        {
          "output_type": "execute_result",
          "data": {
            "text/html": [
              "<div>\n",
              "<style scoped>\n",
              "    .dataframe tbody tr th:only-of-type {\n",
              "        vertical-align: middle;\n",
              "    }\n",
              "\n",
              "    .dataframe tbody tr th {\n",
              "        vertical-align: top;\n",
              "    }\n",
              "\n",
              "    .dataframe thead th {\n",
              "        text-align: right;\n",
              "    }\n",
              "</style>\n",
              "<table border=\"1\" class=\"dataframe\">\n",
              "  <thead>\n",
              "    <tr style=\"text-align: right;\">\n",
              "      <th></th>\n",
              "      <th>85</th>\n",
              "    </tr>\n",
              "  </thead>\n",
              "  <tbody>\n",
              "    <tr>\n",
              "      <th>0</th>\n",
              "      <td>92</td>\n",
              "    </tr>\n",
              "    <tr>\n",
              "      <th>1</th>\n",
              "      <td>86</td>\n",
              "    </tr>\n",
              "    <tr>\n",
              "      <th>2</th>\n",
              "      <td>87</td>\n",
              "    </tr>\n",
              "    <tr>\n",
              "      <th>3</th>\n",
              "      <td>88</td>\n",
              "    </tr>\n",
              "    <tr>\n",
              "      <th>4</th>\n",
              "      <td>93</td>\n",
              "    </tr>\n",
              "    <tr>\n",
              "      <th>5</th>\n",
              "      <td>90</td>\n",
              "    </tr>\n",
              "    <tr>\n",
              "      <th>6</th>\n",
              "      <td>92</td>\n",
              "    </tr>\n",
              "    <tr>\n",
              "      <th>7</th>\n",
              "      <td>87</td>\n",
              "    </tr>\n",
              "    <tr>\n",
              "      <th>8</th>\n",
              "      <td>84</td>\n",
              "    </tr>\n",
              "    <tr>\n",
              "      <th>9</th>\n",
              "      <td>96</td>\n",
              "    </tr>\n",
              "    <tr>\n",
              "      <th>10</th>\n",
              "      <td>84</td>\n",
              "    </tr>\n",
              "    <tr>\n",
              "      <th>11</th>\n",
              "      <td>92</td>\n",
              "    </tr>\n",
              "    <tr>\n",
              "      <th>12</th>\n",
              "      <td>96</td>\n",
              "    </tr>\n",
              "    <tr>\n",
              "      <th>13</th>\n",
              "      <td>84</td>\n",
              "    </tr>\n",
              "    <tr>\n",
              "      <th>14</th>\n",
              "      <td>90</td>\n",
              "    </tr>\n",
              "    <tr>\n",
              "      <th>15</th>\n",
              "      <td>91</td>\n",
              "    </tr>\n",
              "    <tr>\n",
              "      <th>16</th>\n",
              "      <td>84</td>\n",
              "    </tr>\n",
              "    <tr>\n",
              "      <th>17</th>\n",
              "      <td>84</td>\n",
              "    </tr>\n",
              "    <tr>\n",
              "      <th>18</th>\n",
              "      <td>90</td>\n",
              "    </tr>\n",
              "    <tr>\n",
              "      <th>19</th>\n",
              "      <td>90</td>\n",
              "    </tr>\n",
              "    <tr>\n",
              "      <th>20</th>\n",
              "      <td>93</td>\n",
              "    </tr>\n",
              "    <tr>\n",
              "      <th>21</th>\n",
              "      <td>91</td>\n",
              "    </tr>\n",
              "    <tr>\n",
              "      <th>22</th>\n",
              "      <td>92</td>\n",
              "    </tr>\n",
              "    <tr>\n",
              "      <th>23</th>\n",
              "      <td>92</td>\n",
              "    </tr>\n",
              "    <tr>\n",
              "      <th>24</th>\n",
              "      <td>86</td>\n",
              "    </tr>\n",
              "    <tr>\n",
              "      <th>25</th>\n",
              "      <td>85</td>\n",
              "    </tr>\n",
              "    <tr>\n",
              "      <th>26</th>\n",
              "      <td>88</td>\n",
              "    </tr>\n",
              "    <tr>\n",
              "      <th>27</th>\n",
              "      <td>86</td>\n",
              "    </tr>\n",
              "    <tr>\n",
              "      <th>28</th>\n",
              "      <td>88</td>\n",
              "    </tr>\n",
              "    <tr>\n",
              "      <th>29</th>\n",
              "      <td>86</td>\n",
              "    </tr>\n",
              "    <tr>\n",
              "      <th>...</th>\n",
              "      <td>...</td>\n",
              "    </tr>\n",
              "    <tr>\n",
              "      <th>4969</th>\n",
              "      <td>88</td>\n",
              "    </tr>\n",
              "    <tr>\n",
              "      <th>4970</th>\n",
              "      <td>89</td>\n",
              "    </tr>\n",
              "    <tr>\n",
              "      <th>4971</th>\n",
              "      <td>89</td>\n",
              "    </tr>\n",
              "    <tr>\n",
              "      <th>4972</th>\n",
              "      <td>91</td>\n",
              "    </tr>\n",
              "    <tr>\n",
              "      <th>4973</th>\n",
              "      <td>84</td>\n",
              "    </tr>\n",
              "    <tr>\n",
              "      <th>4974</th>\n",
              "      <td>91</td>\n",
              "    </tr>\n",
              "    <tr>\n",
              "      <th>4975</th>\n",
              "      <td>88</td>\n",
              "    </tr>\n",
              "    <tr>\n",
              "      <th>4976</th>\n",
              "      <td>89</td>\n",
              "    </tr>\n",
              "    <tr>\n",
              "      <th>4977</th>\n",
              "      <td>87</td>\n",
              "    </tr>\n",
              "    <tr>\n",
              "      <th>4978</th>\n",
              "      <td>89</td>\n",
              "    </tr>\n",
              "    <tr>\n",
              "      <th>4979</th>\n",
              "      <td>90</td>\n",
              "    </tr>\n",
              "    <tr>\n",
              "      <th>4980</th>\n",
              "      <td>90</td>\n",
              "    </tr>\n",
              "    <tr>\n",
              "      <th>4981</th>\n",
              "      <td>85</td>\n",
              "    </tr>\n",
              "    <tr>\n",
              "      <th>4982</th>\n",
              "      <td>84</td>\n",
              "    </tr>\n",
              "    <tr>\n",
              "      <th>4983</th>\n",
              "      <td>90</td>\n",
              "    </tr>\n",
              "    <tr>\n",
              "      <th>4984</th>\n",
              "      <td>84</td>\n",
              "    </tr>\n",
              "    <tr>\n",
              "      <th>4985</th>\n",
              "      <td>90</td>\n",
              "    </tr>\n",
              "    <tr>\n",
              "      <th>4986</th>\n",
              "      <td>94</td>\n",
              "    </tr>\n",
              "    <tr>\n",
              "      <th>4987</th>\n",
              "      <td>84</td>\n",
              "    </tr>\n",
              "    <tr>\n",
              "      <th>4988</th>\n",
              "      <td>87</td>\n",
              "    </tr>\n",
              "    <tr>\n",
              "      <th>4989</th>\n",
              "      <td>93</td>\n",
              "    </tr>\n",
              "    <tr>\n",
              "      <th>4990</th>\n",
              "      <td>92</td>\n",
              "    </tr>\n",
              "    <tr>\n",
              "      <th>4991</th>\n",
              "      <td>84</td>\n",
              "    </tr>\n",
              "    <tr>\n",
              "      <th>4992</th>\n",
              "      <td>93</td>\n",
              "    </tr>\n",
              "    <tr>\n",
              "      <th>4993</th>\n",
              "      <td>83</td>\n",
              "    </tr>\n",
              "    <tr>\n",
              "      <th>4994</th>\n",
              "      <td>86</td>\n",
              "    </tr>\n",
              "    <tr>\n",
              "      <th>4995</th>\n",
              "      <td>83</td>\n",
              "    </tr>\n",
              "    <tr>\n",
              "      <th>4996</th>\n",
              "      <td>88</td>\n",
              "    </tr>\n",
              "    <tr>\n",
              "      <th>4997</th>\n",
              "      <td>93</td>\n",
              "    </tr>\n",
              "    <tr>\n",
              "      <th>4998</th>\n",
              "      <td>86</td>\n",
              "    </tr>\n",
              "  </tbody>\n",
              "</table>\n",
              "<p>4999 rows × 1 columns</p>\n",
              "</div>"
            ],
            "text/plain": [
              "      85\n",
              "0     92\n",
              "1     86\n",
              "2     87\n",
              "3     88\n",
              "4     93\n",
              "5     90\n",
              "6     92\n",
              "7     87\n",
              "8     84\n",
              "9     96\n",
              "10    84\n",
              "11    92\n",
              "12    96\n",
              "13    84\n",
              "14    90\n",
              "15    91\n",
              "16    84\n",
              "17    84\n",
              "18    90\n",
              "19    90\n",
              "20    93\n",
              "21    91\n",
              "22    92\n",
              "23    92\n",
              "24    86\n",
              "25    85\n",
              "26    88\n",
              "27    86\n",
              "28    88\n",
              "29    86\n",
              "...   ..\n",
              "4969  88\n",
              "4970  89\n",
              "4971  89\n",
              "4972  91\n",
              "4973  84\n",
              "4974  91\n",
              "4975  88\n",
              "4976  89\n",
              "4977  87\n",
              "4978  89\n",
              "4979  90\n",
              "4980  90\n",
              "4981  85\n",
              "4982  84\n",
              "4983  90\n",
              "4984  84\n",
              "4985  90\n",
              "4986  94\n",
              "4987  84\n",
              "4988  87\n",
              "4989  93\n",
              "4990  92\n",
              "4991  84\n",
              "4992  93\n",
              "4993  83\n",
              "4994  86\n",
              "4995  83\n",
              "4996  88\n",
              "4997  93\n",
              "4998  86\n",
              "\n",
              "[4999 rows x 1 columns]"
            ]
          },
          "metadata": {
            "tags": []
          },
          "execution_count": 4
        }
      ]
    },
    {
      "cell_type": "code",
      "metadata": {
        "id": "xyKE5VAULvh1",
        "colab_type": "code",
        "colab": {}
      },
      "source": [
        "features = pd.read_csv('/content/drive/My Drive/ml_hw2/featureTypes.txt')\n",
        "pseudo_train_labels=train_labels.iloc[:,:]\n",
        "pseudo_train_labels.columns=['Columns']\n",
        "clubbed_data=train_data.join(pseudo_train_labels)\n",
        "features.columns=['Feature names']\n",
        "feature_dataframe=pd.DataFrame({'Columns':train_data.columns}).join(features)\n",
        "#feature_dataframe.to_csv('featuresset.csv', header=False, index=False)\n",
        "corr_matrix = clubbed_data.corr()\n",
        "clubbed_data"
      ],
      "execution_count": 0,
      "outputs": []
    },
    {
      "cell_type": "code",
      "metadata": {
        "id": "iymO-I_aQ4w9",
        "colab_type": "code",
        "colab": {}
      },
      "source": [
        "pd.DataFrame(corr_matrix[\"Columns\"].abs().sort_values(ascending=False).head(1000))"
      ],
      "execution_count": 0,
      "outputs": []
    },
    {
      "cell_type": "code",
      "metadata": {
        "id": "3jcqKR3kf6Gs",
        "colab_type": "code",
        "outputId": "19bfc84f-429b-48ff-a8c9-7d65c46ce5e3",
        "colab": {
          "base_uri": "https://localhost:8080/",
          "height": 390
        }
      },
      "source": [
        "pd.DataFrame(corr_matrix[\"Columns\"].abs().sort_values(ascending=True).head(11))"
      ],
      "execution_count": 0,
      "outputs": [
        {
          "output_type": "execute_result",
          "data": {
            "text/html": [
              "<div>\n",
              "<style scoped>\n",
              "    .dataframe tbody tr th:only-of-type {\n",
              "        vertical-align: middle;\n",
              "    }\n",
              "\n",
              "    .dataframe tbody tr th {\n",
              "        vertical-align: top;\n",
              "    }\n",
              "\n",
              "    .dataframe thead th {\n",
              "        text-align: right;\n",
              "    }\n",
              "</style>\n",
              "<table border=\"1\" class=\"dataframe\">\n",
              "  <thead>\n",
              "    <tr style=\"text-align: right;\">\n",
              "      <th></th>\n",
              "      <th>Columns</th>\n",
              "    </tr>\n",
              "  </thead>\n",
              "  <tbody>\n",
              "    <tr>\n",
              "      <th>0.0.1668</th>\n",
              "      <td>0.000002</td>\n",
              "    </tr>\n",
              "    <tr>\n",
              "      <th>0.0.1903</th>\n",
              "      <td>0.000015</td>\n",
              "    </tr>\n",
              "    <tr>\n",
              "      <th>0.0.1976</th>\n",
              "      <td>0.000022</td>\n",
              "    </tr>\n",
              "    <tr>\n",
              "      <th>0.0.852</th>\n",
              "      <td>0.000110</td>\n",
              "    </tr>\n",
              "    <tr>\n",
              "      <th>0.0.1234</th>\n",
              "      <td>0.000121</td>\n",
              "    </tr>\n",
              "    <tr>\n",
              "      <th>0.0.112</th>\n",
              "      <td>0.000123</td>\n",
              "    </tr>\n",
              "    <tr>\n",
              "      <th>0.0.2463</th>\n",
              "      <td>0.000129</td>\n",
              "    </tr>\n",
              "    <tr>\n",
              "      <th>0.0.2896</th>\n",
              "      <td>0.000129</td>\n",
              "    </tr>\n",
              "    <tr>\n",
              "      <th>0.0.2135</th>\n",
              "      <td>0.000164</td>\n",
              "    </tr>\n",
              "    <tr>\n",
              "      <th>0.0.2898</th>\n",
              "      <td>0.000174</td>\n",
              "    </tr>\n",
              "    <tr>\n",
              "      <th>0.0.1696</th>\n",
              "      <td>0.000197</td>\n",
              "    </tr>\n",
              "  </tbody>\n",
              "</table>\n",
              "</div>"
            ],
            "text/plain": [
              "           Columns\n",
              "0.0.1668  0.000002\n",
              "0.0.1903  0.000015\n",
              "0.0.1976  0.000022\n",
              "0.0.852   0.000110\n",
              "0.0.1234  0.000121\n",
              "0.0.112   0.000123\n",
              "0.0.2463  0.000129\n",
              "0.0.2896  0.000129\n",
              "0.0.2135  0.000164\n",
              "0.0.2898  0.000174\n",
              "0.0.1696  0.000197"
            ]
          },
          "metadata": {
            "tags": []
          },
          "execution_count": 127
        }
      ]
    },
    {
      "cell_type": "code",
      "metadata": {
        "id": "5RHvICpUGX3R",
        "colab_type": "code",
        "colab": {}
      },
      "source": [
        "import numpy as np\n",
        "import pandas as pd\n",
        "\n",
        "\n",
        "def Ridge_function(X, Y, L):\n",
        "    (rows, columns) = X.shape\n",
        "    X1 = np.ones(columns, dtype=int)\n",
        "    Xbar = np.vstack([X, X1])\n",
        "\n",
        "    Xbar_transpose = np.transpose(Xbar)\n",
        "\n",
        "    I = np.identity(rows)\n",
        "    Ibar = np.pad(I, [(0, 1), (0, 1)], mode='constant')\n",
        "\n",
        "    C = Xbar.dot(Xbar_transpose) + np.array(Ibar) * L\n",
        "    D = Xbar.dot(Y)\n",
        "\n",
        "    Cinv = np.linalg.inv(C)\n",
        "    Wbar = np.linalg.solve(C,D)\n",
        "\n",
        "    B = Wbar[-1]\n",
        "    W = Wbar[:-1]\n",
        "\n",
        "    Ytranspose = np.transpose(Y)\n",
        "    Wtranspose = np.transpose(W)\n",
        "    Rsum = 0\n",
        "    for i in range(columns):\n",
        "        XI = X[..., i].ravel()\n",
        "        XItranspose = np.transpose(XI)\n",
        "        Wsum = Wtranspose.dot(XItranspose)\n",
        "        Rsum = Rsum + (Wsum + B[0] - Ytranspose[0][i]) ** 2\n",
        "\n",
        "    Wsquare = 0\n",
        "    for k in range(rows):\n",
        "        Wsquare = Wtranspose[0][k] ** 2 + Wsquare\n",
        "\n",
        "    ridge_objective = Rsum + Wsquare\n",
        "\n",
        "    Errs = []\n",
        "    for i in range(columns):\n",
        "        XIbar = Xbar[...,i].ravel()\n",
        "        Err = XIbar.dot(Wbar)-Y[i][0]\n",
        "        XIbartranspose=np.transpose(XIbar)\n",
        "        temp=XIbartranspose.dot(Cinv)\n",
        "        denominator=1-temp.dot(XIbar)\n",
        "        Errs.append(Err[0]/denominator)\n",
        "        \n",
        "\n",
        "    return [W, B[0], ridge_objective[0], Errs]\n"
      ],
      "execution_count": 0,
      "outputs": []
    },
    {
      "cell_type": "code",
      "metadata": {
        "id": "5JZhDeUmPuwa",
        "colab_type": "code",
        "colab": {}
      },
      "source": [
        "custom_ridge_predictions=[]\n",
        "custom_ridge=Ridge_function(np.transpose(train_data.values),train_labels.values,1)\n",
        "\n",
        "custom_ridge_coeff=custom_ridge[0]\n",
        "custom_loocv_errors=custom_ridge[3]\n",
        "custom_b_value=custom_ridge[1]\n",
        "custom_ridge_objective=custom_ridge[2]\n",
        "\n"
      ],
      "execution_count": 0,
      "outputs": []
    },
    {
      "cell_type": "code",
      "metadata": {
        "id": "MsC6f22m6xsM",
        "colab_type": "code",
        "outputId": "8f8553d0-d570-496a-f970-c016e5bcda4e",
        "colab": {
          "base_uri": "https://localhost:8080/",
          "height": 153
        }
      },
      "source": [
        "\n",
        "\n",
        "custom_ridge_predictions=[]\n",
        "custom_ridge=Ridge_function(np.transpose((train_data.append(test_data)).values),(train_labels.append(test_labels)).values,.7)\n",
        "\n",
        "custom_ridge_coeff=custom_ridge[0]\n",
        "custom_loocv_errors=custom_ridge[3]\n",
        "custom_b_value=custom_ridge[1]\n",
        "custom_ridge_objective=custom_ridge[2]\n"
      ],
      "execution_count": 0,
      "outputs": [
        {
          "output_type": "stream",
          "text": [
            "/usr/local/lib/python3.6/dist-packages/pandas/core/frame.py:6692: FutureWarning: Sorting because non-concatenation axis is not aligned. A future version\n",
            "of pandas will change to not sort by default.\n",
            "\n",
            "To accept the future behavior, pass 'sort=False'.\n",
            "\n",
            "To retain the current behavior and silence the warning, pass 'sort=True'.\n",
            "\n",
            "  sort=sort)\n"
          ],
          "name": "stderr"
        }
      ]
    },
    {
      "cell_type": "code",
      "metadata": {
        "id": "BRM4Yfwf8caL",
        "colab_type": "code",
        "outputId": "e6e11545-8052-4966-c401-04e0e925e49e",
        "colab": {
          "base_uri": "https://localhost:8080/",
          "height": 136
        }
      },
      "source": [
        "custom_ridge_coeff"
      ],
      "execution_count": 0,
      "outputs": [
        {
          "output_type": "execute_result",
          "data": {
            "text/plain": [
              "array([[nan, nan],\n",
              "       [nan, nan],\n",
              "       [nan, nan],\n",
              "       ...,\n",
              "       [nan, nan],\n",
              "       [nan, nan],\n",
              "       [nan, nan]])"
            ]
          },
          "metadata": {
            "tags": []
          },
          "execution_count": 152
        }
      ]
    },
    {
      "cell_type": "code",
      "metadata": {
        "id": "GpeLvuS9iOop",
        "colab_type": "code",
        "colab": {}
      },
      "source": [
        "predictions=[]\n",
        "for i in range(len(test_data.values)):\n",
        "  pred=test_data.values[i].dot(custom_ridge_coeff)+custom_b_value\n",
        "  predictions.append(pred[0])\n",
        "predictions\n",
        "\n"
      ],
      "execution_count": 0,
      "outputs": []
    },
    {
      "cell_type": "code",
      "metadata": {
        "id": "dZG4BM0OjodJ",
        "colab_type": "code",
        "colab": {}
      },
      "source": [
        "custom_rms=[]\n",
        "square_sum=0\n",
        "for i in range(len(test_labels.values)):\n",
        "  custom_rms.append((predictions[i]-test_labels.values[i])**2)\n",
        "variance=np.mean(custom_rms)\n",
        "\n",
        "np.sqrt(variance)\n"
      ],
      "execution_count": 0,
      "outputs": []
    },
    {
      "cell_type": "code",
      "metadata": {
        "id": "AMPzdtG5-lvp",
        "colab_type": "code",
        "colab": {}
      },
      "source": [
        "lambdas=[0.001,.01,0.1,1,10,100,1000]\n",
        "loocvs=[]\n",
        "rmss=[]\n",
        "train_rmss=[]\n",
        "for i in lambdas:\n",
        "  custom_ridge=Ridge_function(np.transpose(train_data.values),train_labels.values,i)\n",
        "\n",
        "  custom_ridge_coeff=custom_ridge[0]\n",
        "  custom_loocv_errors=custom_ridge[3]\n",
        "  custom_b_value=custom_ridge[1]\n",
        "  custom_ridge_objective=custom_ridge[2]\n",
        "  predictions=[]\n",
        "  for i in range(len(test_data.values)):\n",
        "    pred=test_data.values[i].dot(custom_ridge_coeff)+custom_b_value\n",
        "    predictions.append(pred[0])\n",
        "  custom_rms=[]\n",
        "  for i in range(len(test_data.values)):\n",
        "    custom_rms.append((predictions[i]-test_labels.values[i])**2)\n",
        "  custom_loocvs=[]\n",
        "  for i in custom_loocv_errors:\n",
        "    custom_loocvs.append(i**2)\n",
        "    \n",
        "  train_predictions=[]\n",
        "  for i in range(len(train_data.values)):\n",
        "    pred=train_data.values[i].dot(custom_ridge_coeff)+custom_b_value\n",
        "    train_predictions.append(pred[0])\n",
        "  custom_train_rms=[]\n",
        "  for i in range(len(train_labels.values)):\n",
        "    custom_train_rms.append((train_predictions[i]-train_labels.values[i])**2)\n",
        "    \n",
        "  train_rmss.append(np.sqrt(np.mean(custom_train_rms)))\n",
        "  rmss.append(np.sqrt(np.mean(custom_rms)))\n",
        "  loocvs.append(np.sqrt(np.mean(custom_loocvs)))"
      ],
      "execution_count": 0,
      "outputs": []
    },
    {
      "cell_type": "code",
      "metadata": {
        "id": "xUfECnQkyL7Z",
        "colab_type": "code",
        "outputId": "fde1b179-775d-4fa1-9ceb-e941307cee93",
        "colab": {
          "base_uri": "https://localhost:8080/",
          "height": 352
        }
      },
      "source": [
        "fig, ax=mpl.subplots(figsize=(10, 5))\n",
        "ax.plot(lambdas,train_rmss,'r',lambdas,loocvs,'g',lambdas,rmss,'y')\n",
        "ax.set_xlabel(\"Lambda\")\n",
        "ax.set_ylabel(\"RMS\")\n",
        "ax.set_title(\"Lambda vs RMS\", fontsize=16)\n",
        "ax.legend(labels=['TRAIN_RMS','LOOCV','VALIDATION_RMS'])\n",
        "ax.grid(True)"
      ],
      "execution_count": 0,
      "outputs": [
        {
          "output_type": "display_data",
          "data": {
            "image/png": "[encoded data removed]",
            "text/plain": [
              "<Figure size 720x360 with 1 Axes>"
            ]
          },
          "metadata": {
            "tags": []
          }
        }
      ]
    },
    {
      "cell_type": "code",
      "metadata": {
        "id": "WpqfeZBg3HmH",
        "colab_type": "code",
        "outputId": "d053f8bb-4f4d-4abc-c9c9-339db44b07f6",
        "colab": {
          "base_uri": "https://localhost:8080/",
          "height": 352
        }
      },
      "source": [
        "fig, ax=mpl.subplots(figsize=(10, 5))\n",
        "ax.plot(train_rmss,'r',loocvs,'g',rmss,'y')\n",
        "ax.set_xlabel(\"Lambda\")\n",
        "ax.set_ylabel(\"RMS\")\n",
        "ax.set_title(\"Lambda vs RMS\", fontsize=16)\n",
        "ax.legend(labels=['TRAIN_RMS','LOOCV','VALIDATION_RMS'])\n",
        "ax.grid(True)"
      ],
      "execution_count": 0,
      "outputs": [
        {
          "output_type": "display_data",
          "data": {
            "image/png": "[encoded data removed]",
            "text/plain": [
              "<Figure size 720x360 with 1 Axes>"
            ]
          },
          "metadata": {
            "tags": []
          }
        }
      ]
    },
    {
      "cell_type": "code",
      "metadata": {
        "id": "DM_CbL_4BmF6",
        "colab_type": "code",
        "outputId": "cb9b52bb-fb13-4809-9f0b-417d90c8b440",
        "colab": {
          "base_uri": "https://localhost:8080/",
          "height": 352
        }
      },
      "source": [
        "fig, ax=mpl.subplots(figsize=(10, 5))\n",
        "ax.plot(lambdas,rmss)\n",
        "ax.set_xlabel(\"Lambda\")\n",
        "ax.set_ylabel(\"RMS\")\n",
        "ax.set_title(\"Lambda vs RMS\", fontsize=16)\n",
        "ax.grid(True)"
      ],
      "execution_count": 0,
      "outputs": [
        {
          "output_type": "display_data",
          "data": {
            "image/png": "[encoded data removed]",
            "text/plain": [
              "<Figure size 720x360 with 1 Axes>"
            ]
          },
          "metadata": {
            "tags": []
          }
        }
      ]
    },
    {
      "cell_type": "code",
      "metadata": {
        "id": "Ldj_ckWzHRYx",
        "colab_type": "code",
        "outputId": "116b3007-9040-4c4b-e049-2874839ba47d",
        "colab": {
          "base_uri": "https://localhost:8080/",
          "height": 352
        }
      },
      "source": [
        "fig, bx=mpl.subplots(figsize=(10, 5))\n",
        "bx.plot(lambdas,loocvs)\n",
        "bx.set_xlabel(\"Lambda\")\n",
        "bx.set_ylabel(\"LOOCVS\")\n",
        "bx.set_title(\"Lambda vs loocvs\", fontsize=16)\n",
        "bx.grid(True)"
      ],
      "execution_count": 0,
      "outputs": [
        {
          "output_type": "display_data",
          "data": {
            "image/png": "[encoded data removed]",
            "text/plain": [
              "<Figure size 720x360 with 1 Axes>"
            ]
          },
          "metadata": {
            "tags": []
          }
        }
      ]
    },
    {
      "cell_type": "code",
      "metadata": {
        "id": "WJKSoMRmz9XS",
        "colab_type": "code",
        "outputId": "3869c6e9-57bf-4797-a2a6-df344a96960b",
        "colab": {
          "base_uri": "https://localhost:8080/",
          "height": 352
        }
      },
      "source": [
        "fig, ax=mpl.subplots(figsize=(10, 5))\n",
        "ax.plot(lambdas,train_rmss)\n",
        "ax.set_xlabel(\"Lambda\")\n",
        "ax.set_ylabel(\"Train RMS\")\n",
        "ax.set_title(\"Lambda vs Train RMS\", fontsize=16)\n",
        "ax.grid(True)"
      ],
      "execution_count": 0,
      "outputs": [
        {
          "output_type": "display_data",
          "data": {
            "image/png": "[encoded data removed]",
            "text/plain": [
              "<Figure size 720x360 with 1 Axes>"
            ]
          },
          "metadata": {
            "tags": []
          }
        }
      ]
    },
    {
      "cell_type": "code",
      "metadata": {
        "id": "sLQNhACvU86B",
        "colab_type": "code",
        "colab": {}
      },
      "source": [
        "import pandas as pd\n",
        "predictions=[]\n",
        "for i in range(len(submission_data.values)):\n",
        "  pred=submission_data.values[i].dot(custom_ridge_coeff)+custom_b_value\n",
        "  predictions.append(pred[0])\n",
        "\n",
        "dataframe = pd.DataFrame(pd.Series(predictions))   \n",
        "dataframe.to_csv('submission.csv', header=False, index=False)"
      ],
      "execution_count": 0,
      "outputs": []
    }
  ]
}